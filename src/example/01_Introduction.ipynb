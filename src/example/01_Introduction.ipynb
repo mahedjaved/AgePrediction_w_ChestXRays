{
 "cells": [
  {
   "cell_type": "code",
   "execution_count": 9,
   "metadata": {},
   "outputs": [],
   "source": [
    "import pandas as pd\n",
    "import numpy as numpy\n",
    "from PIL import Image\n",
    "import cv2\n",
    "import os\n",
    "import matplotlib.pyplot as plt\n",
    "from tqdm import tqdm"
   ]
  },
  {
   "cell_type": "markdown",
   "metadata": {},
   "source": [
    "# Project Background"
   ]
  },
  {
   "cell_type": "markdown",
   "metadata": {},
   "source": [
    "An example project that mimics a typical analysis performed by radiologists on X-rays images of patients' chest. The problem is to deduce the age of the patient purely using the X-ray images of the chest.\n",
    "\n",
    "The project uses the dataset presented in Kaggle as part of the competition held by The Radiology Diagnostic Imaging Society of Sao Paulo (SPR) with Amazon Web Services\n",
    "\n",
    "The dataset can be obtained from : https://www.kaggle.com/datasets/felipekitamura/spr-x-ray-age-and-gender-dataset"
   ]
  },
  {
   "cell_type": "markdown",
   "metadata": {},
   "source": [
    "# Setup and Preprocessing"
   ]
  },
  {
   "cell_type": "markdown",
   "metadata": {},
   "source": [
    "x"
   ]
  }
 ],
 "metadata": {
  "kernelspec": {
   "display_name": "py3_9",
   "language": "python",
   "name": "python3"
  },
  "language_info": {
   "codemirror_mode": {
    "name": "ipython",
    "version": 3
   },
   "file_extension": ".py",
   "mimetype": "text/x-python",
   "name": "python",
   "nbconvert_exporter": "python",
   "pygments_lexer": "ipython3",
   "version": "3.9.18"
  }
 },
 "nbformat": 4,
 "nbformat_minor": 2
}
